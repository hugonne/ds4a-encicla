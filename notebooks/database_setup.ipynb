{
 "cells": [
  {
   "cell_type": "code",
   "execution_count": 21,
   "metadata": {
    "tags": []
   },
   "outputs": [],
   "source": [
    "import pandas as pd\n",
    "import os\n",
    "from sqlalchemy import create_engine, text\n",
    "\n",
    "pd.options.display.max_rows = 20\n",
    "engine=create_engine('postgresql://postgres:sa@localhost/postgres', max_overflow=20)\n",
    "\n",
    "def get_table_ddl_from_csv(table_name, path_to_csv, file_encoding):\n",
    "    df = pd.read_csv(path_to_csv, encoding=file_encoding)\n",
    "    \n",
    "    column_list = \"id serial not null, \"\n",
    "    for i in range(len(df.columns)):\n",
    "        is_date = \"date\" in df.columns[i].lower()\n",
    "        if is_date:\n",
    "            data_type = \"date\"\n",
    "        else:\n",
    "            data_type = \"varchar\"\n",
    "        column_name = df.columns[i].lower()\n",
    "        column_list = column_list + f\"{column_name} {data_type},\"\n",
    "\n",
    "    primary_key = f\"CONSTRAINT {table_name}_pkey PRIMARY KEY (id)\"\n",
    "    query = f\"CREATE TABLE {table_name} ({column_list} {primary_key});\"\n",
    "    return query\n",
    "\n",
    "def execute_query(sql):\n",
    "    result = engine.connect().execution_options(isolation_level=\"AUTOCOMMIT\").execute((text(sql)))\n",
    "    return pd.DataFrame(result.fetchall(), columns=result.keys())\n",
    "\n",
    "def execute_nonquery(sql):\n",
    "    engine.connect().execution_options(isolation_level=\"AUTOCOMMIT\").execute((text(sql)))\n",
    "\n",
    "def execute_scalar(sql):\n",
    "    result = engine.connect().execution_options(isolation_level=\"AUTOCOMMIT\").execute((text(sql)))\n",
    "    return result.fetchall()[0][0]\n",
    "\n",
    "def load_data(table_name, path_to_csv, file_encoding):\n",
    "    df = pd.read_csv(path_to_csv, encoding=file_encoding)\n",
    "    df.columns\n",
    "\n",
    "    column_list = \"\"\n",
    "    for i in range(len(df.columns)):\n",
    "        column_list = column_list + f\"{df.columns[i]},\"\n",
    "    column_list = column_list[:-1]\n",
    "\n",
    "    os_path = os.path.abspath(path_to_csv)\n",
    "    options = f\"format csv, header true, delimiter ',', encoding '{file_encoding}'\"\n",
    "    execute_nonquery(f\"COPY {table_name}({column_list}) FROM '{os_path}' WITH ({options});\")"
   ]
  },
  {
   "cell_type": "code",
   "execution_count": 13,
   "metadata": {
    "tags": []
   },
   "outputs": [
    {
     "output_type": "stream",
     "name": "stdout",
     "text": "COPY inventories(Date,Zone_ID,Zone_name,Zone_desc,Station_ID,Station_order,Station_name,Station_address,Station_description,Station_latitude,Station_longitude,Station_type,Station_capacity,Station_bikes,Station_places,Station_picture,Station_bikes_state,Station_places_state,Station_closed,Station_cdo) FROM '/Users/hugonne/DS4A/Repo/ds4a-encicla/notebooks/data/inventory.csv' WITH (format csv, header true, delimiter ',', encoding 'ISO-8859-1');\n"
    }
   ],
   "source": [
    "# with open(\"data/inventory.csv\") as f:\n",
    "# file_encoding = f.encoding\n",
    "\n",
    "execute_nonquery(get_table_ddl_from_csv(\"inventories\", \"data/inventory.csv\", \"ISO-8859-1\"))\n",
    "load_data(\"inventories\", \"data/inventory.csv\", \"ISO-8859-1\")"
   ]
  },
  {
   "cell_type": "code",
   "execution_count": 22,
   "metadata": {
    "tags": []
   },
   "outputs": [
    {
     "output_type": "stream",
     "name": "stdout",
     "text": "72192\n"
    }
   ],
   "source": [
    "print(execute_scalar(\"SELECT COUNT (*) FROM inventories\"))"
   ]
  },
  {
   "cell_type": "code",
   "execution_count": null,
   "metadata": {},
   "outputs": [],
   "source": []
  }
 ],
 "metadata": {
  "language_info": {
   "codemirror_mode": {
    "name": "ipython",
    "version": 3
   },
   "file_extension": ".py",
   "mimetype": "text/x-python",
   "name": "python",
   "nbconvert_exporter": "python",
   "pygments_lexer": "ipython3",
   "version": "3.8.3-final"
  },
  "orig_nbformat": 2,
  "kernelspec": {
   "name": "python38364bitds4aenvconda9ad2e615fdb14254bf0c88d58902e87b",
   "display_name": "Python 3.8.3 64-bit ('ds4a_env': conda)"
  }
 },
 "nbformat": 4,
 "nbformat_minor": 2
}